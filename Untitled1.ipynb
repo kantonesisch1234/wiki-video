{
 "cells": [
  {
   "cell_type": "code",
   "execution_count": 4,
   "id": "04992749",
   "metadata": {},
   "outputs": [],
   "source": [
    "from moviepy.editor import *"
   ]
  },
  {
   "cell_type": "code",
   "execution_count": 2,
   "id": "f7d61251",
   "metadata": {},
   "outputs": [],
   "source": [
    "# Transition clip\n",
    "\n",
    "def make_transition_clip():\n",
    "    clip_duration = 3\n",
    "    fontsize = 250\n",
    "    font = 'DFKai-SB'\n",
    "    txt_color = 'black'\n",
    "    bg_file = r'.\\media\\mao.jpg'\n",
    "    audio_file = r'.\\media\\transition.wav'\n",
    "\n",
    "    image_clip = ImageClip(bg_file, duration=clip_duration)\n",
    "    image_video_clip = CompositeVideoClip([image_clip]).set_duration(clip_duration)\n",
    "\n",
    "    text_clip = TextClip(\"測試\", fontsize=fontsize, font=font, color=txt_color).set_position('center')\n",
    "    im_width, im_height = text_clip.size\n",
    "    color_clip = ColorClip(size=(int(im_width*1.1), int(im_height*1.4)),\n",
    "                           color=(255, 0, 255))\n",
    "    color_clip = color_clip.set_opacity(.5)\n",
    "    clip_to_overlay = CompositeVideoClip([color_clip, text_clip])\n",
    "    clip_to_overlay = clip_to_overlay.set_position('center')\n",
    "\n",
    "    new_video_clip = CompositeVideoClip([image_video_clip, clip_to_overlay]).set_duration(clip_duration)\n",
    "    new_video_clip.audio = AudioFileClip(audio_file)\n",
    "    new_video_clip.write_videofile('hi.mp4',fps=30)"
   ]
  },
  {
   "cell_type": "code",
   "execution_count": 5,
   "id": "e91dbb8b",
   "metadata": {},
   "outputs": [
    {
     "name": "stderr",
     "output_type": "stream",
     "text": [
      "\r",
      "chunk:   0%|                                                                         | 0/108 [00:00<?, ?it/s, now=None]"
     ]
    },
    {
     "name": "stdout",
     "output_type": "stream",
     "text": [
      "Moviepy - Building video hi.mp4.\n",
      "MoviePy - Writing audio in hiTEMP_MPY_wvf_snd.mp3\n"
     ]
    },
    {
     "name": "stderr",
     "output_type": "stream",
     "text": [
      "                                                                                                                       \r"
     ]
    },
    {
     "name": "stdout",
     "output_type": "stream",
     "text": [
      "MoviePy - Done.\n",
      "Moviepy - Writing video hi.mp4\n",
      "\n"
     ]
    },
    {
     "ename": "TypeError",
     "evalue": "must be real number, not NoneType",
     "output_type": "error",
     "traceback": [
      "\u001b[1;31m---------------------------------------------------------------------------\u001b[0m",
      "\u001b[1;31mTypeError\u001b[0m                                 Traceback (most recent call last)",
      "\u001b[1;32m<ipython-input-5-b882fbb0f413>\u001b[0m in \u001b[0;36m<module>\u001b[1;34m\u001b[0m\n\u001b[1;32m----> 1\u001b[1;33m \u001b[0mmake_transition_clip\u001b[0m\u001b[1;33m(\u001b[0m\u001b[1;33m)\u001b[0m\u001b[1;33m\u001b[0m\u001b[1;33m\u001b[0m\u001b[0m\n\u001b[0m",
      "\u001b[1;32m<ipython-input-2-e56c6b019064>\u001b[0m in \u001b[0;36mmake_transition_clip\u001b[1;34m()\u001b[0m\n\u001b[0;32m     22\u001b[0m     \u001b[0mnew_video_clip\u001b[0m \u001b[1;33m=\u001b[0m \u001b[0mCompositeVideoClip\u001b[0m\u001b[1;33m(\u001b[0m\u001b[1;33m[\u001b[0m\u001b[0mimage_video_clip\u001b[0m\u001b[1;33m,\u001b[0m \u001b[0mclip_to_overlay\u001b[0m\u001b[1;33m]\u001b[0m\u001b[1;33m)\u001b[0m\u001b[1;33m.\u001b[0m\u001b[0mset_duration\u001b[0m\u001b[1;33m(\u001b[0m\u001b[0mclip_duration\u001b[0m\u001b[1;33m)\u001b[0m\u001b[1;33m\u001b[0m\u001b[1;33m\u001b[0m\u001b[0m\n\u001b[0;32m     23\u001b[0m     \u001b[0mnew_video_clip\u001b[0m\u001b[1;33m.\u001b[0m\u001b[0maudio\u001b[0m \u001b[1;33m=\u001b[0m \u001b[0mAudioFileClip\u001b[0m\u001b[1;33m(\u001b[0m\u001b[0maudio_file\u001b[0m\u001b[1;33m)\u001b[0m\u001b[1;33m\u001b[0m\u001b[1;33m\u001b[0m\u001b[0m\n\u001b[1;32m---> 24\u001b[1;33m     \u001b[0mnew_video_clip\u001b[0m\u001b[1;33m.\u001b[0m\u001b[0mwrite_videofile\u001b[0m\u001b[1;33m(\u001b[0m\u001b[1;34m'hi.mp4'\u001b[0m\u001b[1;33m,\u001b[0m\u001b[0mfps\u001b[0m\u001b[1;33m=\u001b[0m\u001b[1;36m30\u001b[0m\u001b[1;33m)\u001b[0m\u001b[1;33m\u001b[0m\u001b[1;33m\u001b[0m\u001b[0m\n\u001b[0m",
      "\u001b[1;32m~\\anaconda3\\lib\\site-packages\\decorator.py\u001b[0m in \u001b[0;36mfun\u001b[1;34m(*args, **kw)\u001b[0m\n\u001b[0;32m    230\u001b[0m             \u001b[1;32mif\u001b[0m \u001b[1;32mnot\u001b[0m \u001b[0mkwsyntax\u001b[0m\u001b[1;33m:\u001b[0m\u001b[1;33m\u001b[0m\u001b[1;33m\u001b[0m\u001b[0m\n\u001b[0;32m    231\u001b[0m                 \u001b[0margs\u001b[0m\u001b[1;33m,\u001b[0m \u001b[0mkw\u001b[0m \u001b[1;33m=\u001b[0m \u001b[0mfix\u001b[0m\u001b[1;33m(\u001b[0m\u001b[0margs\u001b[0m\u001b[1;33m,\u001b[0m \u001b[0mkw\u001b[0m\u001b[1;33m,\u001b[0m \u001b[0msig\u001b[0m\u001b[1;33m)\u001b[0m\u001b[1;33m\u001b[0m\u001b[1;33m\u001b[0m\u001b[0m\n\u001b[1;32m--> 232\u001b[1;33m             \u001b[1;32mreturn\u001b[0m \u001b[0mcaller\u001b[0m\u001b[1;33m(\u001b[0m\u001b[0mfunc\u001b[0m\u001b[1;33m,\u001b[0m \u001b[1;33m*\u001b[0m\u001b[1;33m(\u001b[0m\u001b[0mextras\u001b[0m \u001b[1;33m+\u001b[0m \u001b[0margs\u001b[0m\u001b[1;33m)\u001b[0m\u001b[1;33m,\u001b[0m \u001b[1;33m**\u001b[0m\u001b[0mkw\u001b[0m\u001b[1;33m)\u001b[0m\u001b[1;33m\u001b[0m\u001b[1;33m\u001b[0m\u001b[0m\n\u001b[0m\u001b[0;32m    233\u001b[0m     \u001b[0mfun\u001b[0m\u001b[1;33m.\u001b[0m\u001b[0m__name__\u001b[0m \u001b[1;33m=\u001b[0m \u001b[0mfunc\u001b[0m\u001b[1;33m.\u001b[0m\u001b[0m__name__\u001b[0m\u001b[1;33m\u001b[0m\u001b[1;33m\u001b[0m\u001b[0m\n\u001b[0;32m    234\u001b[0m     \u001b[0mfun\u001b[0m\u001b[1;33m.\u001b[0m\u001b[0m__doc__\u001b[0m \u001b[1;33m=\u001b[0m \u001b[0mfunc\u001b[0m\u001b[1;33m.\u001b[0m\u001b[0m__doc__\u001b[0m\u001b[1;33m\u001b[0m\u001b[1;33m\u001b[0m\u001b[0m\n",
      "\u001b[1;32m~\\anaconda3\\lib\\site-packages\\moviepy\\decorators.py\u001b[0m in \u001b[0;36mrequires_duration\u001b[1;34m(f, clip, *a, **k)\u001b[0m\n\u001b[0;32m     52\u001b[0m         \u001b[1;32mraise\u001b[0m \u001b[0mValueError\u001b[0m\u001b[1;33m(\u001b[0m\u001b[1;34m\"Attribute 'duration' not set\"\u001b[0m\u001b[1;33m)\u001b[0m\u001b[1;33m\u001b[0m\u001b[1;33m\u001b[0m\u001b[0m\n\u001b[0;32m     53\u001b[0m     \u001b[1;32melse\u001b[0m\u001b[1;33m:\u001b[0m\u001b[1;33m\u001b[0m\u001b[1;33m\u001b[0m\u001b[0m\n\u001b[1;32m---> 54\u001b[1;33m         \u001b[1;32mreturn\u001b[0m \u001b[0mf\u001b[0m\u001b[1;33m(\u001b[0m\u001b[0mclip\u001b[0m\u001b[1;33m,\u001b[0m \u001b[1;33m*\u001b[0m\u001b[0ma\u001b[0m\u001b[1;33m,\u001b[0m \u001b[1;33m**\u001b[0m\u001b[0mk\u001b[0m\u001b[1;33m)\u001b[0m\u001b[1;33m\u001b[0m\u001b[1;33m\u001b[0m\u001b[0m\n\u001b[0m\u001b[0;32m     55\u001b[0m \u001b[1;33m\u001b[0m\u001b[0m\n\u001b[0;32m     56\u001b[0m \u001b[1;33m\u001b[0m\u001b[0m\n",
      "\u001b[1;32m~\\anaconda3\\lib\\site-packages\\decorator.py\u001b[0m in \u001b[0;36mfun\u001b[1;34m(*args, **kw)\u001b[0m\n\u001b[0;32m    230\u001b[0m             \u001b[1;32mif\u001b[0m \u001b[1;32mnot\u001b[0m \u001b[0mkwsyntax\u001b[0m\u001b[1;33m:\u001b[0m\u001b[1;33m\u001b[0m\u001b[1;33m\u001b[0m\u001b[0m\n\u001b[0;32m    231\u001b[0m                 \u001b[0margs\u001b[0m\u001b[1;33m,\u001b[0m \u001b[0mkw\u001b[0m \u001b[1;33m=\u001b[0m \u001b[0mfix\u001b[0m\u001b[1;33m(\u001b[0m\u001b[0margs\u001b[0m\u001b[1;33m,\u001b[0m \u001b[0mkw\u001b[0m\u001b[1;33m,\u001b[0m \u001b[0msig\u001b[0m\u001b[1;33m)\u001b[0m\u001b[1;33m\u001b[0m\u001b[1;33m\u001b[0m\u001b[0m\n\u001b[1;32m--> 232\u001b[1;33m             \u001b[1;32mreturn\u001b[0m \u001b[0mcaller\u001b[0m\u001b[1;33m(\u001b[0m\u001b[0mfunc\u001b[0m\u001b[1;33m,\u001b[0m \u001b[1;33m*\u001b[0m\u001b[1;33m(\u001b[0m\u001b[0mextras\u001b[0m \u001b[1;33m+\u001b[0m \u001b[0margs\u001b[0m\u001b[1;33m)\u001b[0m\u001b[1;33m,\u001b[0m \u001b[1;33m**\u001b[0m\u001b[0mkw\u001b[0m\u001b[1;33m)\u001b[0m\u001b[1;33m\u001b[0m\u001b[1;33m\u001b[0m\u001b[0m\n\u001b[0m\u001b[0;32m    233\u001b[0m     \u001b[0mfun\u001b[0m\u001b[1;33m.\u001b[0m\u001b[0m__name__\u001b[0m \u001b[1;33m=\u001b[0m \u001b[0mfunc\u001b[0m\u001b[1;33m.\u001b[0m\u001b[0m__name__\u001b[0m\u001b[1;33m\u001b[0m\u001b[1;33m\u001b[0m\u001b[0m\n\u001b[0;32m    234\u001b[0m     \u001b[0mfun\u001b[0m\u001b[1;33m.\u001b[0m\u001b[0m__doc__\u001b[0m \u001b[1;33m=\u001b[0m \u001b[0mfunc\u001b[0m\u001b[1;33m.\u001b[0m\u001b[0m__doc__\u001b[0m\u001b[1;33m\u001b[0m\u001b[1;33m\u001b[0m\u001b[0m\n",
      "\u001b[1;32m~\\anaconda3\\lib\\site-packages\\moviepy\\decorators.py\u001b[0m in \u001b[0;36muse_clip_fps_by_default\u001b[1;34m(f, clip, *a, **k)\u001b[0m\n\u001b[0;32m    133\u001b[0m              for (k,v) in k.items()}\n\u001b[0;32m    134\u001b[0m \u001b[1;33m\u001b[0m\u001b[0m\n\u001b[1;32m--> 135\u001b[1;33m     \u001b[1;32mreturn\u001b[0m \u001b[0mf\u001b[0m\u001b[1;33m(\u001b[0m\u001b[0mclip\u001b[0m\u001b[1;33m,\u001b[0m \u001b[1;33m*\u001b[0m\u001b[0mnew_a\u001b[0m\u001b[1;33m,\u001b[0m \u001b[1;33m**\u001b[0m\u001b[0mnew_kw\u001b[0m\u001b[1;33m)\u001b[0m\u001b[1;33m\u001b[0m\u001b[1;33m\u001b[0m\u001b[0m\n\u001b[0m",
      "\u001b[1;32m~\\anaconda3\\lib\\site-packages\\decorator.py\u001b[0m in \u001b[0;36mfun\u001b[1;34m(*args, **kw)\u001b[0m\n\u001b[0;32m    230\u001b[0m             \u001b[1;32mif\u001b[0m \u001b[1;32mnot\u001b[0m \u001b[0mkwsyntax\u001b[0m\u001b[1;33m:\u001b[0m\u001b[1;33m\u001b[0m\u001b[1;33m\u001b[0m\u001b[0m\n\u001b[0;32m    231\u001b[0m                 \u001b[0margs\u001b[0m\u001b[1;33m,\u001b[0m \u001b[0mkw\u001b[0m \u001b[1;33m=\u001b[0m \u001b[0mfix\u001b[0m\u001b[1;33m(\u001b[0m\u001b[0margs\u001b[0m\u001b[1;33m,\u001b[0m \u001b[0mkw\u001b[0m\u001b[1;33m,\u001b[0m \u001b[0msig\u001b[0m\u001b[1;33m)\u001b[0m\u001b[1;33m\u001b[0m\u001b[1;33m\u001b[0m\u001b[0m\n\u001b[1;32m--> 232\u001b[1;33m             \u001b[1;32mreturn\u001b[0m \u001b[0mcaller\u001b[0m\u001b[1;33m(\u001b[0m\u001b[0mfunc\u001b[0m\u001b[1;33m,\u001b[0m \u001b[1;33m*\u001b[0m\u001b[1;33m(\u001b[0m\u001b[0mextras\u001b[0m \u001b[1;33m+\u001b[0m \u001b[0margs\u001b[0m\u001b[1;33m)\u001b[0m\u001b[1;33m,\u001b[0m \u001b[1;33m**\u001b[0m\u001b[0mkw\u001b[0m\u001b[1;33m)\u001b[0m\u001b[1;33m\u001b[0m\u001b[1;33m\u001b[0m\u001b[0m\n\u001b[0m\u001b[0;32m    233\u001b[0m     \u001b[0mfun\u001b[0m\u001b[1;33m.\u001b[0m\u001b[0m__name__\u001b[0m \u001b[1;33m=\u001b[0m \u001b[0mfunc\u001b[0m\u001b[1;33m.\u001b[0m\u001b[0m__name__\u001b[0m\u001b[1;33m\u001b[0m\u001b[1;33m\u001b[0m\u001b[0m\n\u001b[0;32m    234\u001b[0m     \u001b[0mfun\u001b[0m\u001b[1;33m.\u001b[0m\u001b[0m__doc__\u001b[0m \u001b[1;33m=\u001b[0m \u001b[0mfunc\u001b[0m\u001b[1;33m.\u001b[0m\u001b[0m__doc__\u001b[0m\u001b[1;33m\u001b[0m\u001b[1;33m\u001b[0m\u001b[0m\n",
      "\u001b[1;32m~\\anaconda3\\lib\\site-packages\\moviepy\\decorators.py\u001b[0m in \u001b[0;36mconvert_masks_to_RGB\u001b[1;34m(f, clip, *a, **k)\u001b[0m\n\u001b[0;32m     20\u001b[0m     \u001b[1;32mif\u001b[0m \u001b[0mclip\u001b[0m\u001b[1;33m.\u001b[0m\u001b[0mismask\u001b[0m\u001b[1;33m:\u001b[0m\u001b[1;33m\u001b[0m\u001b[1;33m\u001b[0m\u001b[0m\n\u001b[0;32m     21\u001b[0m         \u001b[0mclip\u001b[0m \u001b[1;33m=\u001b[0m \u001b[0mclip\u001b[0m\u001b[1;33m.\u001b[0m\u001b[0mto_RGB\u001b[0m\u001b[1;33m(\u001b[0m\u001b[1;33m)\u001b[0m\u001b[1;33m\u001b[0m\u001b[1;33m\u001b[0m\u001b[0m\n\u001b[1;32m---> 22\u001b[1;33m     \u001b[1;32mreturn\u001b[0m \u001b[0mf\u001b[0m\u001b[1;33m(\u001b[0m\u001b[0mclip\u001b[0m\u001b[1;33m,\u001b[0m \u001b[1;33m*\u001b[0m\u001b[0ma\u001b[0m\u001b[1;33m,\u001b[0m \u001b[1;33m**\u001b[0m\u001b[0mk\u001b[0m\u001b[1;33m)\u001b[0m\u001b[1;33m\u001b[0m\u001b[1;33m\u001b[0m\u001b[0m\n\u001b[0m\u001b[0;32m     23\u001b[0m \u001b[1;33m\u001b[0m\u001b[0m\n\u001b[0;32m     24\u001b[0m \u001b[1;33m@\u001b[0m\u001b[0mdecorator\u001b[0m\u001b[1;33m.\u001b[0m\u001b[0mdecorator\u001b[0m\u001b[1;33m\u001b[0m\u001b[1;33m\u001b[0m\u001b[0m\n",
      "\u001b[1;32m~\\anaconda3\\lib\\site-packages\\moviepy\\video\\VideoClip.py\u001b[0m in \u001b[0;36mwrite_videofile\u001b[1;34m(self, filename, fps, codec, bitrate, audio, audio_fps, preset, audio_nbytes, audio_codec, audio_bitrate, audio_bufsize, temp_audiofile, rewrite_audio, remove_temp, write_logfile, verbose, threads, ffmpeg_params, logger)\u001b[0m\n\u001b[0;32m    298\u001b[0m                                        logger=logger)\n\u001b[0;32m    299\u001b[0m \u001b[1;33m\u001b[0m\u001b[0m\n\u001b[1;32m--> 300\u001b[1;33m         ffmpeg_write_video(self, filename, fps, codec,\n\u001b[0m\u001b[0;32m    301\u001b[0m                            \u001b[0mbitrate\u001b[0m\u001b[1;33m=\u001b[0m\u001b[0mbitrate\u001b[0m\u001b[1;33m,\u001b[0m\u001b[1;33m\u001b[0m\u001b[1;33m\u001b[0m\u001b[0m\n\u001b[0;32m    302\u001b[0m                            \u001b[0mpreset\u001b[0m\u001b[1;33m=\u001b[0m\u001b[0mpreset\u001b[0m\u001b[1;33m,\u001b[0m\u001b[1;33m\u001b[0m\u001b[1;33m\u001b[0m\u001b[0m\n",
      "\u001b[1;32m~\\anaconda3\\lib\\site-packages\\moviepy\\video\\io\\ffmpeg_writer.py\u001b[0m in \u001b[0;36mffmpeg_write_video\u001b[1;34m(clip, filename, fps, codec, bitrate, preset, withmask, write_logfile, audiofile, verbose, threads, ffmpeg_params, logger)\u001b[0m\n\u001b[0;32m    211\u001b[0m         \u001b[0mlogfile\u001b[0m \u001b[1;33m=\u001b[0m \u001b[1;32mNone\u001b[0m\u001b[1;33m\u001b[0m\u001b[1;33m\u001b[0m\u001b[0m\n\u001b[0;32m    212\u001b[0m     \u001b[0mlogger\u001b[0m\u001b[1;33m(\u001b[0m\u001b[0mmessage\u001b[0m\u001b[1;33m=\u001b[0m\u001b[1;34m'Moviepy - Writing video %s\\n'\u001b[0m \u001b[1;33m%\u001b[0m \u001b[0mfilename\u001b[0m\u001b[1;33m)\u001b[0m\u001b[1;33m\u001b[0m\u001b[1;33m\u001b[0m\u001b[0m\n\u001b[1;32m--> 213\u001b[1;33m     with FFMPEG_VideoWriter(filename, clip.size, fps, codec = codec,\n\u001b[0m\u001b[0;32m    214\u001b[0m                                 \u001b[0mpreset\u001b[0m\u001b[1;33m=\u001b[0m\u001b[0mpreset\u001b[0m\u001b[1;33m,\u001b[0m \u001b[0mbitrate\u001b[0m\u001b[1;33m=\u001b[0m\u001b[0mbitrate\u001b[0m\u001b[1;33m,\u001b[0m \u001b[0mlogfile\u001b[0m\u001b[1;33m=\u001b[0m\u001b[0mlogfile\u001b[0m\u001b[1;33m,\u001b[0m\u001b[1;33m\u001b[0m\u001b[1;33m\u001b[0m\u001b[0m\n\u001b[0;32m    215\u001b[0m                                 \u001b[0maudiofile\u001b[0m\u001b[1;33m=\u001b[0m\u001b[0maudiofile\u001b[0m\u001b[1;33m,\u001b[0m \u001b[0mthreads\u001b[0m\u001b[1;33m=\u001b[0m\u001b[0mthreads\u001b[0m\u001b[1;33m,\u001b[0m\u001b[1;33m\u001b[0m\u001b[1;33m\u001b[0m\u001b[0m\n",
      "\u001b[1;32m~\\anaconda3\\lib\\site-packages\\moviepy\\video\\io\\ffmpeg_writer.py\u001b[0m in \u001b[0;36m__init__\u001b[1;34m(self, filename, size, fps, codec, audiofile, preset, bitrate, withmask, logfile, threads, ffmpeg_params)\u001b[0m\n\u001b[0;32m     86\u001b[0m             \u001b[1;34m'-s'\u001b[0m\u001b[1;33m,\u001b[0m \u001b[1;34m'%dx%d'\u001b[0m \u001b[1;33m%\u001b[0m \u001b[1;33m(\u001b[0m\u001b[0msize\u001b[0m\u001b[1;33m[\u001b[0m\u001b[1;36m0\u001b[0m\u001b[1;33m]\u001b[0m\u001b[1;33m,\u001b[0m \u001b[0msize\u001b[0m\u001b[1;33m[\u001b[0m\u001b[1;36m1\u001b[0m\u001b[1;33m]\u001b[0m\u001b[1;33m)\u001b[0m\u001b[1;33m,\u001b[0m\u001b[1;33m\u001b[0m\u001b[1;33m\u001b[0m\u001b[0m\n\u001b[0;32m     87\u001b[0m             \u001b[1;34m'-pix_fmt'\u001b[0m\u001b[1;33m,\u001b[0m \u001b[1;34m'rgba'\u001b[0m \u001b[1;32mif\u001b[0m \u001b[0mwithmask\u001b[0m \u001b[1;32melse\u001b[0m \u001b[1;34m'rgb24'\u001b[0m\u001b[1;33m,\u001b[0m\u001b[1;33m\u001b[0m\u001b[1;33m\u001b[0m\u001b[0m\n\u001b[1;32m---> 88\u001b[1;33m             \u001b[1;34m'-r'\u001b[0m\u001b[1;33m,\u001b[0m \u001b[1;34m'%.02f'\u001b[0m \u001b[1;33m%\u001b[0m \u001b[0mfps\u001b[0m\u001b[1;33m,\u001b[0m\u001b[1;33m\u001b[0m\u001b[1;33m\u001b[0m\u001b[0m\n\u001b[0m\u001b[0;32m     89\u001b[0m             \u001b[1;34m'-an'\u001b[0m\u001b[1;33m,\u001b[0m \u001b[1;34m'-i'\u001b[0m\u001b[1;33m,\u001b[0m \u001b[1;34m'-'\u001b[0m\u001b[1;33m\u001b[0m\u001b[1;33m\u001b[0m\u001b[0m\n\u001b[0;32m     90\u001b[0m         ]\n",
      "\u001b[1;31mTypeError\u001b[0m: must be real number, not NoneType"
     ]
    }
   ],
   "source": [
    "make_transition_clip()"
   ]
  },
  {
   "cell_type": "code",
   "execution_count": 41,
   "id": "3e033a29",
   "metadata": {},
   "outputs": [
    {
     "data": {
      "text/plain": [
       "'https://upload.wikimedia.org/wikipedia/commons/e/ea/%E8%94%A3%E4%B8%AD%E6%AD%A3%E8%82%96%E5%83%8F%28%E4%B8%8A%E8%89%B2%29.jpg'"
      ]
     },
     "execution_count": 41,
     "metadata": {},
     "output_type": "execute_result"
    }
   ],
   "source": [
    "import requests\n",
    "import json\n",
    "\n",
    "def get_wiki_main_image(title):\n",
    "    url = 'https://zh.wikipedia.org/w/api.php'\n",
    "    data = {\n",
    "        'action' :'query',\n",
    "        'format' : 'json',\n",
    "        'formatversion' : 2,\n",
    "        'prop' : 'pageimages|pageterms',\n",
    "        'piprop' : 'original',\n",
    "        'titles' : title\n",
    "    }\n",
    "    response = requests.get(url, data)\n",
    "    json_data = json.loads(response.text)\n",
    "    return json_data['query']['pages'][0]['original']['source'] if len(json_data['query']['pages']) >0 else 'Not found'\n",
    "get_wiki_main_image('蔣中正')"
   ]
  },
  {
   "cell_type": "code",
   "execution_count": 49,
   "id": "c8d3484d",
   "metadata": {},
   "outputs": [
    {
     "data": {
      "text/plain": [
       "{'batchcomplete': True,\n",
       " 'continue': {'aicontinue': \"'Batman_Assault_on_Arkham'_cover.jpeg.jpg\",\n",
       "  'continue': '-||pageimages|pageterms'},\n",
       " 'query': {'pages': [{'pageid': 20716,\n",
       "    'ns': 0,\n",
       "    'title': '蔣中正',\n",
       "    'original': {'source': 'https://upload.wikimedia.org/wikipedia/commons/e/ea/%E8%94%A3%E4%B8%AD%E6%AD%A3%E8%82%96%E5%83%8F%28%E4%B8%8A%E8%89%B2%29.jpg',\n",
       "     'width': 512,\n",
       "     'height': 720},\n",
       "    'terms': {'alias': ['蔣介石'],\n",
       "     'label': ['蔣中正'],\n",
       "     'description': ['中華民國第1－5任總統、特級上將']}}],\n",
       "  'allimages': [{'name': '\"A-TEEN_.jpg\".jpg',\n",
       "    'timestamp': '2019-02-14T13:20:11Z',\n",
       "    'url': 'https://upload.wikimedia.org/wikipedia/zh/a/ac/%22A-TEEN_.jpg%22.jpg',\n",
       "    'descriptionurl': 'https://zh.wikipedia.org/wiki/File:%22A-TEEN_.jpg%22.jpg',\n",
       "    'descriptionshorturl': 'https://zh.wikipedia.org/w/index.php?curid=6473098',\n",
       "    'ns': 6,\n",
       "    'title': 'File:\"A-TEEN .jpg\".jpg'},\n",
       "   {'name': '\"A_Day_in_the_Life\"_SAMPLE.ogg',\n",
       "    'timestamp': '2018-01-15T14:41:01Z',\n",
       "    'url': 'https://upload.wikimedia.org/wikipedia/zh/2/2b/%22A_Day_in_the_Life%22_SAMPLE.ogg',\n",
       "    'descriptionurl': 'https://zh.wikipedia.org/wiki/File:%22A_Day_in_the_Life%22_SAMPLE.ogg',\n",
       "    'descriptionshorturl': 'https://zh.wikipedia.org/w/index.php?curid=6019272',\n",
       "    'ns': 6,\n",
       "    'title': 'File:\"A Day in the Life\" SAMPLE.ogg'},\n",
       "   {'name': '\"Butch\"_van_Breda_Kolff.jpg',\n",
       "    'timestamp': '2007-09-21T14:14:25Z',\n",
       "    'url': 'https://upload.wikimedia.org/wikipedia/zh/e/e8/%22Butch%22_van_Breda_Kolff.jpg',\n",
       "    'descriptionurl': 'https://zh.wikipedia.org/wiki/File:%22Butch%22_van_Breda_Kolff.jpg',\n",
       "    'descriptionshorturl': 'https://zh.wikipedia.org/w/index.php?curid=627833',\n",
       "    'ns': 6,\n",
       "    'title': 'File:\"Butch\" van Breda Kolff.jpg'},\n",
       "   {'name': '\"Justice,_My_Foot!\"_DVD_cover.jpg',\n",
       "    'timestamp': '2010-03-01T08:52:37Z',\n",
       "    'url': 'https://upload.wikimedia.org/wikipedia/zh/4/4a/%22Justice%2C_My_Foot%21%22_DVD_cover.jpg',\n",
       "    'descriptionurl': 'https://zh.wikipedia.org/wiki/File:%22Justice,_My_Foot!%22_DVD_cover.jpg',\n",
       "    'descriptionshorturl': 'https://zh.wikipedia.org/w/index.php?curid=1226554',\n",
       "    'ns': 6,\n",
       "    'title': 'File:\"Justice, My Foot!\" DVD cover.jpg'},\n",
       "   {'name': '\"Lucy_in_the_Sky_...\"_SAMPLE.ogg',\n",
       "    'timestamp': '2018-01-14T11:13:33Z',\n",
       "    'url': 'https://upload.wikimedia.org/wikipedia/zh/d/d9/%22Lucy_in_the_Sky_...%22_SAMPLE.ogg',\n",
       "    'descriptionurl': 'https://zh.wikipedia.org/wiki/File:%22Lucy_in_the_Sky_...%22_SAMPLE.ogg',\n",
       "    'descriptionshorturl': 'https://zh.wikipedia.org/w/index.php?curid=6017914',\n",
       "    'ns': 6,\n",
       "    'title': 'File:\"Lucy in the Sky ...\" SAMPLE.ogg'},\n",
       "   {'name': '\"Sgt._Pepper\"_Inner_Gatefold.jpg',\n",
       "    'timestamp': '2018-01-16T09:22:53Z',\n",
       "    'url': 'https://upload.wikimedia.org/wikipedia/zh/d/dc/%22Sgt._Pepper%22_Inner_Gatefold.jpg',\n",
       "    'descriptionurl': 'https://zh.wikipedia.org/wiki/File:%22Sgt._Pepper%22_Inner_Gatefold.jpg',\n",
       "    'descriptionshorturl': 'https://zh.wikipedia.org/w/index.php?curid=6020127',\n",
       "    'ns': 6,\n",
       "    'title': 'File:\"Sgt. Pepper\" Inner Gatefold.jpg'},\n",
       "   {'name': '\"Sgt._Pepper\\'s...\"_SAMPLE.ogg',\n",
       "    'timestamp': '2018-01-14T10:50:20Z',\n",
       "    'url': 'https://upload.wikimedia.org/wikipedia/zh/a/a2/%22Sgt._Pepper%27s...%22_SAMPLE.ogg',\n",
       "    'descriptionurl': 'https://zh.wikipedia.org/wiki/File:%22Sgt._Pepper%27s...%22_SAMPLE.ogg',\n",
       "    'descriptionshorturl': 'https://zh.wikipedia.org/w/index.php?curid=6017890',\n",
       "    'ns': 6,\n",
       "    'title': 'File:\"Sgt. Pepper\\'s...\" SAMPLE.ogg'},\n",
       "   {'name': '\"Song_of_General_Kim_Il-sung\"_sheet_music_cover.jpg',\n",
       "    'timestamp': '2021-06-07T11:23:08Z',\n",
       "    'url': 'https://upload.wikimedia.org/wikipedia/zh/3/34/%22Song_of_General_Kim_Il-sung%22_sheet_music_cover.jpg',\n",
       "    'descriptionurl': 'https://zh.wikipedia.org/wiki/File:%22Song_of_General_Kim_Il-sung%22_sheet_music_cover.jpg',\n",
       "    'descriptionshorturl': 'https://zh.wikipedia.org/w/index.php?curid=7513177',\n",
       "    'ns': 6,\n",
       "    'title': 'File:\"Song of General Kim Il-sung\" sheet music cover.jpg'},\n",
       "   {'name': '\"When_I\\'m_Sixty-Four\"_SAMPLE.ogg',\n",
       "    'timestamp': '2018-01-15T14:30:36Z',\n",
       "    'url': 'https://upload.wikimedia.org/wikipedia/zh/2/2a/%22When_I%27m_Sixty-Four%22_SAMPLE.ogg',\n",
       "    'descriptionurl': 'https://zh.wikipedia.org/wiki/File:%22When_I%27m_Sixty-Four%22_SAMPLE.ogg',\n",
       "    'descriptionshorturl': 'https://zh.wikipedia.org/w/index.php?curid=6019260',\n",
       "    'ns': 6,\n",
       "    'title': 'File:\"When I\\'m Sixty-Four\" SAMPLE.ogg'},\n",
       "   {'name': '&_ayu.png',\n",
       "    'timestamp': '2011-02-08T08:47:33Z',\n",
       "    'url': 'https://upload.wikimedia.org/wikipedia/zh/8/8b/%26_ayu.png',\n",
       "    'descriptionurl': 'https://zh.wikipedia.org/wiki/File:%26_ayu.png',\n",
       "    'descriptionshorturl': 'https://zh.wikipedia.org/w/index.php?curid=1516562',\n",
       "    'ns': 6,\n",
       "    'title': 'File:& ayu.png'}]}}"
      ]
     },
     "execution_count": 49,
     "metadata": {},
     "output_type": "execute_result"
    }
   ],
   "source": [
    "def get_wiki_images(title):\n",
    "    url = 'https://zh.wikipedia.org/w/api.php'\n",
    "    data = {\n",
    "        'action' :'query',\n",
    "        'format' : 'json',\n",
    "        'formatversion' : 2,\n",
    "        'prop' : 'pageimages|pageterms',\n",
    "        'list' : 'allimages',\n",
    "        'piprop' : 'original',\n",
    "        'titles' : title\n",
    "    }\n",
    "    response = requests.get(url, data)\n",
    "    json_data = json.loads(response.text)\n",
    "    return json_data\n",
    "\n",
    "get_wiki_images('蔣中正')\n",
    "\n"
   ]
  },
  {
   "cell_type": "code",
   "execution_count": null,
   "id": "d31b38f9",
   "metadata": {},
   "outputs": [],
   "source": [
    "html = urlopen('https://en.wikipedia.org/wiki/Peter_Jeffrey_(RAAF_officer)')\n",
    "bs = BeautifulSoup(html, 'html.parser')"
   ]
  }
 ],
 "metadata": {
  "kernelspec": {
   "display_name": "Python 3",
   "language": "python",
   "name": "python3"
  },
  "language_info": {
   "codemirror_mode": {
    "name": "ipython",
    "version": 3
   },
   "file_extension": ".py",
   "mimetype": "text/x-python",
   "name": "python",
   "nbconvert_exporter": "python",
   "pygments_lexer": "ipython3",
   "version": "3.8.5"
  }
 },
 "nbformat": 4,
 "nbformat_minor": 5
}
